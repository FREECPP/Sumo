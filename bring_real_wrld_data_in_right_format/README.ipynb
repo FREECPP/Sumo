{
 "cells": [
  {
   "cell_type": "markdown",
   "metadata": {},
   "source": [
    "# README"
   ]
  },
  {
   "cell_type": "markdown",
   "metadata": {},
   "source": [
    "---"
   ]
  },
  {
   "cell_type": "markdown",
   "metadata": {},
   "source": [
    "### A034_analysis_relative_time.ipynb"
   ]
  },
  {
   "cell_type": "markdown",
   "metadata": {},
   "source": [
    "Takes an input csv-file with the raw traffic data. The file should look like this: "
   ]
  },
  {
   "cell_type": "markdown",
   "metadata": {},
   "source": [
    ">A034;28.01.2023 18:28:00;28.01.2023 19:28:00;60000;0;0;0;0;5;3000;1;0;0;0;0;0;5;3600;3;1800;0;0;1;600;0;0;0;0;0;0;0;0;0;0;0;0;0;0;1;600;0;0;0;0;0;0;0;0;0;0;0;0;0;0;5;22800;2;3000;3;31800;3;35400;7;6600\n",
    ">\n",
    ">A034;28.01.2023 18:29:00;28.01.2023 19:29:00;60000;0;0;0;0;3;1200;4;2400;0;0;0;0;2;3600;3;2400;0;0;0;0;0;0;1;600;0;0;0;0;0;0;0;0;0;0;0;0;0;0;1;600;0;0;0;0;0;0;0;0;0;0;3;8400;5;9000;2;45600;2;25200;5;3600\n",
    ">\n",
    ">A034;28.01.2023 18:30:00;28.01.2023 19:30:00;60000;0;0;0;0;2;600;3;1200;0;0;0;0;7;4800;0;0;0;0;1;600;0;0;0;0;0;0;0;0;0;0;0;0;0;0;1;600;0;0;0;0;0;0;0;0;0;0;0;0;0;0;2;8400;4;12600;4;41400;0;1200;3;1800"
   ]
  },
  {
   "cell_type": "markdown",
   "metadata": {},
   "source": [
    "The file contains a function that processes a CSV file, a string specifying the name of the output file, and a time interval in minutes. This interval determines how frequently data is recorded in the output file."
   ]
  },
  {
   "cell_type": "markdown",
   "metadata": {},
   "source": [
    ">def create_data_analysis(csv_file, output_file, intervall_in_min)"
   ]
  },
  {
   "cell_type": "markdown",
   "metadata": {},
   "source": [
    "The Output-file should look like this: "
   ]
  },
  {
   "cell_type": "markdown",
   "metadata": {},
   "source": [
    ">Detector;Time;qPKW;qFG;qRF;qBus;qLKW;vPKW;vFG;vRF;vBus;vLKW\n",
    ">\n",
    ">A034_D41;0.0;0;0;0;0;0;0;0;0;0;0\n",
    ">\n",
    ">A034_D42;0.0;0;0;0;0;0;0;0;0;0;0\n",
    ">\n",
    ">A034_D43;0.0;5;0;0;0;0;0;0;0;0;0\n",
    ">\n",
    ">A034_D44;0.0;6;0;0;0;0;0;0;0;0;0"
   ]
  },
  {
   "cell_type": "markdown",
   "metadata": {},
   "source": [
    "It is crucial for future use that the header names are exactly as specified. In particular, any variations in \"Detector,\" \"Time,\" \"qPKW,\" or \"vPKW\" may cause issues. Trying to user other headers in the sumo-script \"edgeDataFromFlow.py\" and \"detector.py\" could result in an error."
   ]
  },
  {
   "cell_type": "markdown",
   "metadata": {},
   "source": [
    "---"
   ]
  },
  {
   "cell_type": "markdown",
   "metadata": {},
   "source": [
    "### EdgeData.py"
   ]
  },
  {
   "cell_type": "markdown",
   "metadata": {},
   "source": [
    "Calls the SUMO script *edgeDataFromFlow.py* and ensures that it receives the correct input files."
   ]
  },
  {
   "cell_type": "markdown",
   "metadata": {},
   "source": [
    "Input: \n",
    "- detector-file (e.g. 241106_induction_loops.add.xml)\n",
    "- flow-traffic-file (our created .txt file from \"A034_analysis_relative_time.ipynb\")\n",
    "- edge-data-file (name of the output)"
   ]
  },
  {
   "cell_type": "markdown",
   "metadata": {},
   "source": [
    "It is important to ensure that the time interval specified in line 18 after the \"-i\" flag matches the time interval used in the file *A034_analysis_relative_time.ipynb*."
   ]
  },
  {
   "cell_type": "markdown",
   "metadata": {},
   "source": [
    "The ouput-file should look something like this: "
   ]
  },
  {
   "cell_type": "markdown",
   "metadata": {},
   "source": [
    "><data>\n",
    "    <interval id=\"flowdata\" begin=\"0\" end=\"600\">\n",
    "        <edge id=\"-1265069358#1\" qPKW=\"0\" groups=\"1\"/>\n",
    "        <edge id=\"-182982119#1\" qPKW=\"0\" groups=\"1\"/>\n",
    "        <edge id=\"-53207957\" qPKW=\"0\" groups=\"1\"/>\n",
    "        <edge id=\"-56163443#3\" qPKW=\"0\" groups=\"1\"/>\n",
    "        <edge id=\"150041551#2\" qPKW=\"0\" groups=\"1\"/>"
   ]
  },
  {
   "cell_type": "markdown",
   "metadata": {},
   "source": []
  }
 ],
 "metadata": {
  "language_info": {
   "name": "python"
  }
 },
 "nbformat": 4,
 "nbformat_minor": 2
}
